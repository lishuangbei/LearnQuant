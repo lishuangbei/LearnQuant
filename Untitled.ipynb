{
 "cells": [
  {
   "cell_type": "code",
   "execution_count": 2,
   "metadata": {},
   "outputs": [],
   "source": [
    "import yfinance as yf\n",
    "import pandas as pd\n",
    "import numpy as np"
   ]
  },
  {
   "cell_type": "code",
   "execution_count": 2,
   "metadata": {},
   "outputs": [],
   "source": [
    "aapl = yf.Ticker(\"AMD\")"
   ]
  },
  {
   "cell_type": "code",
   "execution_count": 3,
   "metadata": {},
   "outputs": [],
   "source": [
    "df = aapl.history(start='2010-1-1', end='2021-4-13')"
   ]
  },
  {
   "cell_type": "code",
   "execution_count": 4,
   "metadata": {},
   "outputs": [],
   "source": [
    "sma_list=[5, 13, 34, 55, 233]\n",
    "cols=[]\n",
    "for sma in sma_list:\n",
    "    col = f'sma{sma}'\n",
    "    df[col] = df['Close'].rolling(sma).mean()\n",
    "    cols.append(col)"
   ]
  },
  {
   "cell_type": "code",
   "execution_count": 5,
   "metadata": {},
   "outputs": [],
   "source": [
    "df.dropna(inplace=True)"
   ]
  },
  {
   "cell_type": "code",
   "execution_count": 6,
   "metadata": {},
   "outputs": [],
   "source": [
    "def upPose(row):\n",
    "    # Close > sma5 > sma13 > sma34 > sma55 > sma233\n",
    "    rules = [\n",
    "        row['Close'] > row['sma5'],\n",
    "        row['sma5'] > row['sma13'],\n",
    "        row['sma13'] > row['sma34'],\n",
    "        row['sma34'] > row['sma55'],\n",
    "        row['sma55'] > row['sma233']\n",
    "    ]\n",
    "    return all(rules)"
   ]
  },
  {
   "cell_type": "code",
   "execution_count": 7,
   "metadata": {},
   "outputs": [],
   "source": [
    "df['position'] = np.where(\n",
    "    df.apply(lambda row: upPose(row), axis=1),\n",
    "    1, 0\n",
    ")"
   ]
  },
  {
   "cell_type": "code",
   "execution_count": 8,
   "metadata": {},
   "outputs": [
    {
     "data": {
      "text/plain": [
       "Date\n",
       "2010-12-03    NaN\n",
       "2010-12-06    0.0\n",
       "2010-12-07    0.0\n",
       "2010-12-08    0.0\n",
       "2010-12-09    0.0\n",
       "             ... \n",
       "2021-04-06    0.0\n",
       "2021-04-07    0.0\n",
       "2021-04-08    0.0\n",
       "2021-04-09    0.0\n",
       "2021-04-12    0.0\n",
       "Name: signal, Length: 2605, dtype: float64"
      ]
     },
     "execution_count": 8,
     "metadata": {},
     "output_type": "execute_result"
    }
   ],
   "source": [
    "df['signal'] = df['position'] - df['position'].shift(1)\n",
    "df['signal'].replace()"
   ]
  },
  {
   "cell_type": "code",
   "execution_count": 9,
   "metadata": {},
   "outputs": [
    {
     "name": "stderr",
     "output_type": "stream",
     "text": [
      "c:\\users\\fire_\\appdata\\local\\programs\\python\\python37-32\\lib\\site-packages\\pandas\\core\\frame.py:4153: SettingWithCopyWarning: \n",
      "A value is trying to be set on a copy of a slice from a DataFrame\n",
      "\n",
      "See the caveats in the documentation: https://pandas.pydata.org/pandas-docs/stable/user_guide/indexing.html#returning-a-view-versus-a-copy\n",
      "  downcast=downcast,\n",
      "c:\\users\\fire_\\appdata\\local\\programs\\python\\python37-32\\lib\\site-packages\\pandas\\core\\frame.py:4133: SettingWithCopyWarning: \n",
      "A value is trying to be set on a copy of a slice from a DataFrame\n",
      "\n",
      "See the caveats in the documentation: https://pandas.pydata.org/pandas-docs/stable/user_guide/indexing.html#returning-a-view-versus-a-copy\n",
      "  errors=errors,\n",
      "c:\\users\\fire_\\appdata\\local\\programs\\python\\python37-32\\lib\\site-packages\\ipykernel_launcher.py:9: SettingWithCopyWarning: \n",
      "A value is trying to be set on a copy of a slice from a DataFrame.\n",
      "Try using .loc[row_indexer,col_indexer] = value instead\n",
      "\n",
      "See the caveats in the documentation: https://pandas.pydata.org/pandas-docs/stable/user_guide/indexing.html#returning-a-view-versus-a-copy\n",
      "  if __name__ == '__main__':\n",
      "c:\\users\\fire_\\appdata\\local\\programs\\python\\python37-32\\lib\\site-packages\\ipykernel_launcher.py:11: SettingWithCopyWarning: \n",
      "A value is trying to be set on a copy of a slice from a DataFrame.\n",
      "Try using .loc[row_indexer,col_indexer] = value instead\n",
      "\n",
      "See the caveats in the documentation: https://pandas.pydata.org/pandas-docs/stable/user_guide/indexing.html#returning-a-view-versus-a-copy\n",
      "  # This is added back by InteractiveShellApp.init_path()\n"
     ]
    },
    {
     "data": {
      "text/html": [
       "<div>\n",
       "<style scoped>\n",
       "    .dataframe tbody tr th:only-of-type {\n",
       "        vertical-align: middle;\n",
       "    }\n",
       "\n",
       "    .dataframe tbody tr th {\n",
       "        vertical-align: top;\n",
       "    }\n",
       "\n",
       "    .dataframe thead th {\n",
       "        text-align: right;\n",
       "    }\n",
       "</style>\n",
       "<table border=\"1\" class=\"dataframe\">\n",
       "  <thead>\n",
       "    <tr style=\"text-align: right;\">\n",
       "      <th></th>\n",
       "      <th>Date</th>\n",
       "      <th>Buy</th>\n",
       "      <th>signal</th>\n",
       "      <th>buy_date</th>\n",
       "      <th>Sell</th>\n",
       "      <th>sell_date</th>\n",
       "    </tr>\n",
       "  </thead>\n",
       "  <tbody>\n",
       "    <tr>\n",
       "      <th>0</th>\n",
       "      <td>2010-12-03</td>\n",
       "      <td>7.65</td>\n",
       "      <td>1.0</td>\n",
       "      <td>0</td>\n",
       "      <td>8.85</td>\n",
       "      <td>2011-02-22</td>\n",
       "    </tr>\n",
       "    <tr>\n",
       "      <th>1</th>\n",
       "      <td>2011-02-15</td>\n",
       "      <td>8.60</td>\n",
       "      <td>1.0</td>\n",
       "      <td>1</td>\n",
       "      <td>9.03</td>\n",
       "      <td>2011-03-01</td>\n",
       "    </tr>\n",
       "    <tr>\n",
       "      <th>2</th>\n",
       "      <td>2011-02-24</td>\n",
       "      <td>9.10</td>\n",
       "      <td>1.0</td>\n",
       "      <td>2</td>\n",
       "      <td>8.84</td>\n",
       "      <td>2011-03-07</td>\n",
       "    </tr>\n",
       "    <tr>\n",
       "      <th>3</th>\n",
       "      <td>2011-03-02</td>\n",
       "      <td>9.17</td>\n",
       "      <td>1.0</td>\n",
       "      <td>3</td>\n",
       "      <td>8.06</td>\n",
       "      <td>2012-03-20</td>\n",
       "    </tr>\n",
       "    <tr>\n",
       "      <th>4</th>\n",
       "      <td>2012-03-14</td>\n",
       "      <td>7.76</td>\n",
       "      <td>1.0</td>\n",
       "      <td>4</td>\n",
       "      <td>8.08</td>\n",
       "      <td>2012-03-28</td>\n",
       "    </tr>\n",
       "    <tr>\n",
       "      <th>...</th>\n",
       "      <td>...</td>\n",
       "      <td>...</td>\n",
       "      <td>...</td>\n",
       "      <td>...</td>\n",
       "      <td>...</td>\n",
       "      <td>...</td>\n",
       "    </tr>\n",
       "    <tr>\n",
       "      <th>86</th>\n",
       "      <td>2020-08-28</td>\n",
       "      <td>85.55</td>\n",
       "      <td>1.0</td>\n",
       "      <td>86</td>\n",
       "      <td>84.21</td>\n",
       "      <td>2020-10-14</td>\n",
       "    </tr>\n",
       "    <tr>\n",
       "      <th>87</th>\n",
       "      <td>2020-10-13</td>\n",
       "      <td>85.28</td>\n",
       "      <td>1.0</td>\n",
       "      <td>87</td>\n",
       "      <td>92.92</td>\n",
       "      <td>2020-12-08</td>\n",
       "    </tr>\n",
       "    <tr>\n",
       "      <th>88</th>\n",
       "      <td>2020-11-19</td>\n",
       "      <td>85.54</td>\n",
       "      <td>1.0</td>\n",
       "      <td>88</td>\n",
       "      <td>95.92</td>\n",
       "      <td>2020-12-18</td>\n",
       "    </tr>\n",
       "    <tr>\n",
       "      <th>89</th>\n",
       "      <td>2020-12-14</td>\n",
       "      <td>94.78</td>\n",
       "      <td>1.0</td>\n",
       "      <td>89</td>\n",
       "      <td>91.78</td>\n",
       "      <td>2021-01-13</td>\n",
       "    </tr>\n",
       "    <tr>\n",
       "      <th>90</th>\n",
       "      <td>2021-01-08</td>\n",
       "      <td>94.58</td>\n",
       "      <td>1.0</td>\n",
       "      <td>90</td>\n",
       "      <td>NaN</td>\n",
       "      <td>NaT</td>\n",
       "    </tr>\n",
       "  </tbody>\n",
       "</table>\n",
       "<p>91 rows × 6 columns</p>\n",
       "</div>"
      ],
      "text/plain": [
       "         Date    Buy  signal  buy_date   Sell  sell_date\n",
       "0  2010-12-03   7.65     1.0         0   8.85 2011-02-22\n",
       "1  2011-02-15   8.60     1.0         1   9.03 2011-03-01\n",
       "2  2011-02-24   9.10     1.0         2   8.84 2011-03-07\n",
       "3  2011-03-02   9.17     1.0         3   8.06 2012-03-20\n",
       "4  2012-03-14   7.76     1.0         4   8.08 2012-03-28\n",
       "..        ...    ...     ...       ...    ...        ...\n",
       "86 2020-08-28  85.55     1.0        86  84.21 2020-10-14\n",
       "87 2020-10-13  85.28     1.0        87  92.92 2020-12-08\n",
       "88 2020-11-19  85.54     1.0        88  95.92 2020-12-18\n",
       "89 2020-12-14  94.78     1.0        89  91.78 2021-01-13\n",
       "90 2021-01-08  94.58     1.0        90    NaN        NaT\n",
       "\n",
       "[91 rows x 6 columns]"
      ]
     },
     "execution_count": 9,
     "metadata": {},
     "output_type": "execute_result"
    }
   ],
   "source": [
    "df_waves = df[df['signal'] != 0]#.fillna(1.0, inplace=True)\n",
    "df_waves.fillna(1.0, inplace=True)\n",
    "df_waves = df_waves[['Close', 'signal']]\n",
    "df_waves['signal'].value_counts()\n",
    "df_waves_new = df_waves[df_waves['signal'] == 1.0]\n",
    "df_waves_new.rename(columns={'Close': 'Buy'}, inplace=True)\n",
    "df_waves_new.reset_index(inplace=True)\n",
    "df_sell = df_waves[df_waves['signal']==-1.0]\n",
    "df_sell['sell_date'] = df_sell.index\n",
    "df_sell.reset_index(inplace=True)\n",
    "df_waves_new['buy_date'] = df_waves_new.index\n",
    "df_waves_new = pd.concat([df_waves_new,df_sell[['Close', 'sell_date']]], axis=1)\n",
    "df_waves_new.rename(columns={'Close': 'Sell'}, inplace=True)\n",
    "df_waves_new"
   ]
  },
  {
   "cell_type": "code",
   "execution_count": 10,
   "metadata": {},
   "outputs": [
    {
     "data": {
      "text/plain": [
       "<matplotlib.axes._subplots.AxesSubplot at 0x11ddb5f0>"
      ]
     },
     "execution_count": 10,
     "metadata": {},
     "output_type": "execute_result"
    },
    {
     "data": {
      "image/png": "[encoded data removed]",
      "text/plain": [
       "<Figure size 432x288 with 1 Axes>"
      ]
     },
     "metadata": {
      "needs_background": "light"
     },
     "output_type": "display_data"
    }
   ],
   "source": [
    "df_waves_new['return'] = np.log(df_waves_new['Sell'] / df_waves_new['Buy'])\n",
    "res = df_waves_new['return'].cumsum().apply(np.exp)\n",
    "res.plot()"
   ]
  },
  {
   "cell_type": "code",
   "execution_count": null,
   "metadata": {},
   "outputs": [],
   "source": []
  },
  {
   "cell_type": "code",
   "execution_count": 11,
   "metadata": {},
   "outputs": [],
   "source": [
    "df['return'] = np.log(df['Close'] / df['Close'].shift(1))"
   ]
  },
  {
   "cell_type": "code",
   "execution_count": 12,
   "metadata": {},
   "outputs": [],
   "source": [
    "df['strategy'] = df['return'] * df['position']\n",
    "# return * position\n",
    "# "
   ]
  },
  {
   "cell_type": "code",
   "execution_count": 13,
   "metadata": {},
   "outputs": [
    {
     "data": {
      "text/plain": [
       "Date\n",
       "2010-12-03    NaN\n",
       "2010-12-06    0.0\n",
       "2010-12-07    0.0\n",
       "2010-12-08    0.0\n",
       "2010-12-09   -0.0\n",
       "             ... \n",
       "2021-04-06    0.0\n",
       "2021-04-07    0.0\n",
       "2021-04-08    0.0\n",
       "2021-04-09   -0.0\n",
       "2021-04-12   -0.0\n",
       "Name: strategy, Length: 2605, dtype: float64"
      ]
     },
     "execution_count": 13,
     "metadata": {},
     "output_type": "execute_result"
    }
   ],
   "source": [
    "df['strategy']"
   ]
  },
  {
   "cell_type": "code",
   "execution_count": 8,
   "metadata": {},
   "outputs": [
    {
     "data": {
      "text/html": [
       "<div>\n",
       "<style scoped>\n",
       "    .dataframe tbody tr th:only-of-type {\n",
       "        vertical-align: middle;\n",
       "    }\n",
       "\n",
       "    .dataframe tbody tr th {\n",
       "        vertical-align: top;\n",
       "    }\n",
       "\n",
       "    .dataframe thead th {\n",
       "        text-align: right;\n",
       "    }\n",
       "</style>\n",
       "<table border=\"1\" class=\"dataframe\">\n",
       "  <thead>\n",
       "    <tr style=\"text-align: right;\">\n",
       "      <th></th>\n",
       "      <th>0</th>\n",
       "      <th>1</th>\n",
       "    </tr>\n",
       "  </thead>\n",
       "  <tbody>\n",
       "    <tr>\n",
       "      <th>0</th>\n",
       "      <td>0</td>\n",
       "      <td>1</td>\n",
       "    </tr>\n",
       "    <tr>\n",
       "      <th>1</th>\n",
       "      <td>2</td>\n",
       "      <td>3</td>\n",
       "    </tr>\n",
       "    <tr>\n",
       "      <th>2</th>\n",
       "      <td>4</td>\n",
       "      <td>5</td>\n",
       "    </tr>\n",
       "    <tr>\n",
       "      <th>3</th>\n",
       "      <td>6</td>\n",
       "      <td>7</td>\n",
       "    </tr>\n",
       "    <tr>\n",
       "      <th>4</th>\n",
       "      <td>8</td>\n",
       "      <td>9</td>\n",
       "    </tr>\n",
       "    <tr>\n",
       "      <th>5</th>\n",
       "      <td>10</td>\n",
       "      <td>11</td>\n",
       "    </tr>\n",
       "  </tbody>\n",
       "</table>\n",
       "</div>"
      ],
      "text/plain": [
       "    0   1\n",
       "0   0   1\n",
       "1   2   3\n",
       "2   4   5\n",
       "3   6   7\n",
       "4   8   9\n",
       "5  10  11"
      ]
     },
     "execution_count": 8,
     "metadata": {},
     "output_type": "execute_result"
    }
   ],
   "source": [
    "test = np.arange(12)\n",
    "test.resize(6,2)\n",
    "test = pd.DataFrame(test)\n",
    "test"
   ]
  },
  {
   "cell_type": "code",
   "execution_count": 14,
   "metadata": {},
   "outputs": [
    {
     "data": {
      "text/html": [
       "<div>\n",
       "<style scoped>\n",
       "    .dataframe tbody tr th:only-of-type {\n",
       "        vertical-align: middle;\n",
       "    }\n",
       "\n",
       "    .dataframe tbody tr th {\n",
       "        vertical-align: top;\n",
       "    }\n",
       "\n",
       "    .dataframe thead th {\n",
       "        text-align: right;\n",
       "    }\n",
       "</style>\n",
       "<table border=\"1\" class=\"dataframe\">\n",
       "  <thead>\n",
       "    <tr style=\"text-align: right;\">\n",
       "      <th></th>\n",
       "      <th>0</th>\n",
       "      <th>1</th>\n",
       "    </tr>\n",
       "  </thead>\n",
       "  <tbody>\n",
       "    <tr>\n",
       "      <th>0</th>\n",
       "      <td>0</td>\n",
       "      <td>1</td>\n",
       "    </tr>\n",
       "    <tr>\n",
       "      <th>1</th>\n",
       "      <td>2</td>\n",
       "      <td>3</td>\n",
       "    </tr>\n",
       "    <tr>\n",
       "      <th>2</th>\n",
       "      <td>4</td>\n",
       "      <td>5</td>\n",
       "    </tr>\n",
       "    <tr>\n",
       "      <th>3</th>\n",
       "      <td>6</td>\n",
       "      <td>7</td>\n",
       "    </tr>\n",
       "    <tr>\n",
       "      <th>4</th>\n",
       "      <td>8</td>\n",
       "      <td>9</td>\n",
       "    </tr>\n",
       "    <tr>\n",
       "      <th>5</th>\n",
       "      <td>10</td>\n",
       "      <td>11</td>\n",
       "    </tr>\n",
       "  </tbody>\n",
       "</table>\n",
       "</div>"
      ],
      "text/plain": [
       "    0   1\n",
       "0   0   1\n",
       "1   2   3\n",
       "2   4   5\n",
       "3   6   7\n",
       "4   8   9\n",
       "5  10  11"
      ]
     },
     "execution_count": 14,
     "metadata": {},
     "output_type": "execute_result"
    }
   ],
   "source": [
    "seri = pd.Series([1,1])\n",
    "test.append(seri, ignore_index=True)\n",
    "test"
   ]
  },
  {
   "cell_type": "code",
   "execution_count": null,
   "metadata": {},
   "outputs": [],
   "source": []
  }
 ],
 "metadata": {
  "kernelspec": {
   "display_name": "Python 3",
   "language": "python",
   "name": "python3"
  },
  "language_info": {
   "codemirror_mode": {
    "name": "ipython",
    "version": 3
   },
   "file_extension": ".py",
   "mimetype": "text/x-python",
   "name": "python",
   "nbconvert_exporter": "python",
   "pygments_lexer": "ipython3",
   "version": "3.7.4"
  }
 },
 "nbformat": 4,
 "nbformat_minor": 4
}
